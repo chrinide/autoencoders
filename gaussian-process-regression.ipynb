{
 "cells": [
  {
   "cell_type": "code",
   "execution_count": 3,
   "metadata": {
    "collapsed": false,
    "deletable": true,
    "editable": true
   },
   "outputs": [],
   "source": [
    "%matplotlib inline\n",
    "import matplotlib.pyplot as plt\n",
    "import matplotlib.cm as cmap\n",
    "cm = cmap.inferno\n",
    "\n",
    "import numpy as np\n",
    "import scipy as sp\n",
    "import theano\n",
    "import theano.tensor as tt\n",
    "import theano.tensor.nlinalg\n",
    "import sys\n",
    "import pymc3 as pm\n",
    "import pandas as pd"
   ]
  },
  {
   "cell_type": "code",
   "execution_count": 2,
   "metadata": {
    "collapsed": false,
    "deletable": true,
    "editable": true
   },
   "outputs": [
    {
     "data": {
      "text/html": [
       "<div>\n",
       "<table border=\"1\" class=\"dataframe\">\n",
       "  <thead>\n",
       "    <tr style=\"text-align: right;\">\n",
       "      <th></th>\n",
       "      <th>years</th>\n",
       "      <th>Means 0</th>\n",
       "      <th>Means 1</th>\n",
       "    </tr>\n",
       "  </thead>\n",
       "  <tbody>\n",
       "    <tr>\n",
       "      <th>0</th>\n",
       "      <td>2011</td>\n",
       "      <td>1.949354</td>\n",
       "      <td>0.598884</td>\n",
       "    </tr>\n",
       "    <tr>\n",
       "      <th>1</th>\n",
       "      <td>2015</td>\n",
       "      <td>0.508923</td>\n",
       "      <td>1.252961</td>\n",
       "    </tr>\n",
       "    <tr>\n",
       "      <th>2</th>\n",
       "      <td>2012</td>\n",
       "      <td>1.538876</td>\n",
       "      <td>1.400515</td>\n",
       "    </tr>\n",
       "    <tr>\n",
       "      <th>3</th>\n",
       "      <td>2015</td>\n",
       "      <td>0.126540</td>\n",
       "      <td>3.254572</td>\n",
       "    </tr>\n",
       "    <tr>\n",
       "      <th>4</th>\n",
       "      <td>2016</td>\n",
       "      <td>-0.437363</td>\n",
       "      <td>2.561972</td>\n",
       "    </tr>\n",
       "  </tbody>\n",
       "</table>\n",
       "</div>"
      ],
      "text/plain": [
       "   years   Means 0   Means 1\n",
       "0   2011  1.949354  0.598884\n",
       "1   2015  0.508923  1.252961\n",
       "2   2012  1.538876  1.400515\n",
       "3   2015  0.126540  3.254572\n",
       "4   2016 -0.437363  2.561972"
      ]
     },
     "execution_count": 2,
     "metadata": {},
     "output_type": "execute_result"
    }
   ],
   "source": [
    "df = pd.read_csv('embedding_vals.csv', index_col=0)\n",
    "df.head()"
   ]
  },
  {
   "cell_type": "code",
   "execution_count": 4,
   "metadata": {
    "collapsed": false,
    "deletable": true,
    "editable": true,
    "scrolled": true
   },
   "outputs": [
    {
     "data": {
      "text/plain": [
       "<matplotlib.axes._subplots.AxesSubplot at 0x7f1411689198>"
      ]
     },
     "execution_count": 4,
     "metadata": {},
     "output_type": "execute_result"
    },
    {
     "data": {
      "image/png": "[encoded data removed]",
      "text/plain": [
       "<matplotlib.figure.Figure at 0x7f146435e128>"
      ]
     },
     "metadata": {},
     "output_type": "display_data"
    }
   ],
   "source": [
    "df.groupby('years').mean().plot()"
   ]
  },
  {
   "cell_type": "code",
   "execution_count": 16,
   "metadata": {
    "collapsed": false
   },
   "outputs": [],
   "source": [
    "# X = np.array(df.groupby('years').mean().index)\n",
    "X = np.arange(len(df.groupby('years').mean().index)).reshape(-1, 1)\n",
    "Y = df.groupby('years').mean()['Means 0'].values.reshape(-1, 1)"
   ]
  },
  {
   "cell_type": "code",
   "execution_count": 17,
   "metadata": {
    "collapsed": false
   },
   "outputs": [
    {
     "data": {
      "text/plain": [
       "((18, 1), (18, 1))"
      ]
     },
     "execution_count": 17,
     "metadata": {},
     "output_type": "execute_result"
    }
   ],
   "source": [
    "X.shape, Y.shape"
   ]
  },
  {
   "cell_type": "code",
   "execution_count": 64,
   "metadata": {
    "collapsed": false,
    "deletable": true,
    "editable": true
   },
   "outputs": [],
   "source": [
    "with pm.Model() as model:\n",
    "    # l = pm.Uniform('l', 0, 10)\n",
    "    \n",
    "    log_s2_f = pm.Uniform('log_s2_f', lower=-10, upper=5)\n",
    "    s2_f = pm.Deterministic('s2_f', tt.exp(log_s2_f))\n",
    "    \n",
    "    f_cov = s2_f * pm.gp.cov.ExpQuad(1, 0.5)\n",
    "    \n",
    "    log_s2_n = pm.Uniform('log_s2_n', lower=-10, upper=5)\n",
    "    s2_n = pm.Deterministic('s2_n', tt.exp(log_s2_n))    \n",
    "    y_obs = pm.gp.GP('y_obs', cov_func=f_cov, sigma=s2_n, observed={'X':X, 'Y':Y})"
   ]
  },
  {
   "cell_type": "code",
   "execution_count": 65,
   "metadata": {
    "collapsed": false,
    "scrolled": true
   },
   "outputs": [
    {
     "name": "stderr",
     "output_type": "stream",
     "text": [
      "Auto-assigning NUTS sampler...\n",
      "Initializing NUTS using advi...\n",
      "\n",
      "\n",
      "\n",
      "\n",
      "  0%|          | 0/200000 [00:00<?, ?it/s]\u001b[A\u001b[A\u001b[A\n",
      "\n",
      "\n",
      "  0%|          | 337/200000 [00:00<00:59, 3362.85it/s]\u001b[A\u001b[A\u001b[A\n",
      "\n",
      "\n",
      "  0%|          | 677/200000 [00:00<00:59, 3373.06it/s]\u001b[A\u001b[A\u001b[A\n",
      "\n",
      "\n",
      "  1%|          | 1014/200000 [00:00<00:59, 3370.40it/s]\u001b[A\u001b[A\u001b[A\n",
      "\n",
      "\n",
      "  1%|          | 1353/200000 [00:00<00:58, 3375.24it/s]\u001b[A\u001b[A\u001b[A\n",
      "\n",
      "\n",
      "  1%|          | 1692/200000 [00:00<00:58, 3376.16it/s]\u001b[A\u001b[A\u001b[A\n",
      "\n",
      "\n",
      "  1%|          | 2030/200000 [00:00<00:58, 3375.28it/s]\u001b[A\u001b[A\u001b[A\n",
      "\n",
      "\n",
      "  1%|          | 2369/200000 [00:00<00:58, 3377.74it/s]\u001b[A\u001b[A\u001b[A\n",
      "\n",
      "\n",
      "  1%|▏         | 2706/200000 [00:00<00:58, 3373.41it/s]\u001b[A\u001b[A\u001b[A\n",
      "\n",
      "\n",
      "  2%|▏         | 3035/200000 [00:00<00:58, 3345.96it/s]\u001b[A\u001b[A\u001b[A\n",
      "\n",
      "\n",
      "  2%|▏         | 3367/200000 [00:01<00:58, 3333.39it/s]\u001b[A\u001b[A\u001b[A\n",
      "\n",
      "\n",
      "  2%|▏         | 3706/200000 [00:01<00:58, 3348.44it/s]\u001b[A\u001b[A\u001b[A\n",
      "\n",
      "\n",
      "  2%|▏         | 4036/200000 [00:01<00:58, 3329.75it/s]\u001b[A\u001b[A\u001b[A\n",
      "\n",
      "\n",
      "  2%|▏         | 4374/200000 [00:01<00:58, 3341.76it/s]\u001b[A\u001b[A\u001b[A\n",
      "\n",
      "\n",
      "  2%|▏         | 4705/200000 [00:01<00:58, 3317.77it/s]\u001b[A\u001b[A\u001b[A\n",
      "\n",
      "\n",
      "  3%|▎         | 5042/200000 [00:01<00:58, 3322.37it/s]\u001b[A\u001b[A\u001b[A\n",
      "\n",
      "\n",
      "  3%|▎         | 5384/200000 [00:01<00:58, 3341.55it/s]\u001b[A\u001b[A\u001b[A\n",
      "\n",
      "\n",
      "  3%|▎         | 5726/200000 [00:01<00:57, 3350.33it/s]\u001b[A\u001b[A\u001b[A\n",
      "\n",
      "\n",
      "  3%|▎         | 6067/200000 [00:01<00:57, 3365.82it/s]\u001b[A\u001b[A\u001b[A\n",
      "\n",
      "\n",
      "  3%|▎         | 6411/200000 [00:01<00:57, 3387.38it/s]\u001b[A\u001b[A\u001b[A\n",
      "\n",
      "\n",
      "  3%|▎         | 6756/200000 [00:02<00:57, 3388.22it/s]\u001b[A\u001b[A\u001b[A\n",
      "\n",
      "\n",
      "  4%|▎         | 7100/200000 [00:02<00:56, 3396.67it/s]\u001b[A\u001b[A\u001b[A\n",
      "\n",
      "\n",
      "  4%|▎         | 7447/200000 [00:02<00:56, 3407.03it/s]\u001b[A\u001b[A\u001b[A\n",
      "\n",
      "\n",
      "  4%|▍         | 7789/200000 [00:02<00:56, 3406.37it/s]\u001b[A\u001b[A\u001b[A\n",
      "\n",
      "\n",
      "  4%|▍         | 8130/200000 [00:02<00:56, 3367.87it/s]\u001b[A\u001b[A\u001b[A\n",
      "\n",
      "\n",
      "  4%|▍         | 8468/200000 [00:02<00:56, 3370.24it/s]\u001b[A\u001b[A\u001b[A\n",
      "\n",
      "\n",
      "  4%|▍         | 8817/200000 [00:02<00:56, 3389.60it/s]\u001b[A\u001b[A\u001b[A\n",
      "\n",
      "\n",
      "  5%|▍         | 9160/200000 [00:02<00:56, 3401.19it/s]\u001b[A\u001b[A\u001b[A\n",
      "\n",
      "\n",
      "  5%|▍         | 9508/200000 [00:02<00:55, 3409.59it/s]\u001b[A\u001b[A\u001b[A\n",
      "\n",
      "\n",
      "  5%|▍         | 9849/200000 [00:02<00:56, 3368.04it/s]\u001b[A\u001b[A\u001b[A\n",
      "\n",
      "\n",
      "  5%|▌         | 10192/200000 [00:03<00:56, 3385.97it/s]\u001b[A\u001b[A\u001b[A\n",
      "\n",
      "\n",
      "  5%|▌         | 10541/200000 [00:03<00:55, 3400.29it/s]\u001b[A\u001b[A\u001b[A\n",
      "\n",
      "\n",
      "  5%|▌         | 10882/200000 [00:03<00:55, 3390.02it/s]\u001b[A\u001b[A\u001b[A\n",
      "\n",
      "\n",
      "  6%|▌         | 11227/200000 [00:03<00:55, 3404.14it/s]\u001b[A\u001b[A\u001b[A\n",
      "\n",
      "\n",
      "  6%|▌         | 11576/200000 [00:03<00:55, 3416.94it/s]\u001b[A\u001b[A\u001b[A\n",
      "\n",
      "\n",
      "  6%|▌         | 11923/200000 [00:03<00:54, 3427.32it/s]\u001b[A\u001b[A\u001b[A\n",
      "\n",
      "\n",
      "  6%|▌         | 12272/200000 [00:03<00:54, 3435.36it/s]\u001b[A\u001b[A\u001b[A\n",
      "\n",
      "\n",
      "  6%|▋         | 12621/200000 [00:03<00:54, 3445.85it/s]\u001b[A\u001b[A\u001b[A\n",
      "\n",
      "\n",
      "  6%|▋         | 12968/200000 [00:03<00:54, 3442.84it/s]\u001b[A\u001b[A\u001b[A\n",
      "\n",
      "\n",
      "  7%|▋         | 13313/200000 [00:03<00:54, 3394.94it/s]\u001b[A\u001b[A\u001b[A\n",
      "\n",
      "\n",
      "  7%|▋         | 13658/200000 [00:04<00:54, 3409.58it/s]\u001b[A\u001b[A\u001b[A\n",
      "\n",
      "\n",
      "  7%|▋         | 14006/200000 [00:04<00:54, 3413.66it/s]\u001b[A\u001b[A\u001b[A\n",
      "\n",
      "\n",
      "  7%|▋         | 14350/200000 [00:04<00:54, 3421.13it/s]\u001b[A\u001b[A\u001b[A\n",
      "\n",
      "\n",
      "  7%|▋         | 14698/200000 [00:04<00:54, 3422.08it/s]\u001b[A\u001b[A\u001b[A\n",
      "\n",
      "\n",
      "  8%|▊         | 15041/200000 [00:04<00:54, 3370.98it/s]\u001b[A\u001b[A\u001b[A\n",
      "\n",
      "\n",
      "  8%|▊         | 15385/200000 [00:04<00:54, 3389.81it/s]\u001b[A\u001b[A\u001b[A\n",
      "\n",
      "\n",
      "  8%|▊         | 15734/200000 [00:04<00:54, 3404.93it/s]\u001b[A\u001b[A\u001b[A\n",
      "\n",
      "\n",
      "  8%|▊         | 16079/200000 [00:04<00:53, 3416.41it/s]\u001b[A\u001b[A\u001b[A\n",
      "\u001b[A\n",
      "\n",
      "  8%|▊         | 16426/200000 [00:04<00:53, 3418.53it/s]\u001b[A\u001b[A\n",
      "\n",
      "  8%|▊         | 16770/200000 [00:04<00:53, 3422.68it/s]\u001b[A\u001b[A\n",
      "\n",
      "  9%|▊         | 17118/200000 [00:05<00:53, 3426.34it/s]\u001b[A\u001b[A\n",
      "\n",
      "  9%|▊         | 17464/200000 [00:05<00:53, 3432.89it/s]\u001b[A\u001b[A\n",
      "\n",
      "  9%|▉         | 17809/200000 [00:05<00:53, 3422.97it/s]\u001b[A\u001b[A\n",
      "\n",
      "  9%|▉         | 18154/200000 [00:05<00:53, 3427.97it/s]\u001b[A\u001b[A\n",
      "\n",
      "  9%|▉         | 18497/200000 [00:05<00:53, 3404.42it/s]\u001b[A\u001b[A\n",
      "\n",
      "  9%|▉         | 18842/200000 [00:05<00:53, 3417.84it/s]\u001b[A\u001b[A\n",
      "\n",
      " 10%|▉         | 19195/200000 [00:05<00:52, 3450.37it/s]\u001b[A\u001b[A\n",
      "\n",
      " 10%|▉         | 19541/200000 [00:05<00:52, 3431.32it/s]\u001b[A\u001b[A\n",
      "\n",
      " 10%|▉         | 19892/200000 [00:05<00:52, 3449.00it/s]\u001b[A\u001b[A\n",
      "\n",
      "Average ELBO = -4,628.2:  10%|█         | 20237/200000 [00:05<00:53, 3390.28it/s]\u001b[A\u001b[A\n",
      "\n",
      "Average ELBO = -4,628.2:  10%|█         | 20581/200000 [00:06<00:52, 3402.95it/s]\u001b[A\u001b[A\n",
      "\n",
      "Average ELBO = -4,628.2:  10%|█         | 20922/200000 [00:06<00:53, 3348.27it/s]\u001b[A\u001b[A\n",
      "\n",
      "Average ELBO = -4,628.2:  11%|█         | 21267/200000 [00:06<00:52, 3375.97it/s]\u001b[A\u001b[A\n",
      "\n",
      "Average ELBO = -4,628.2:  11%|█         | 21616/200000 [00:06<00:52, 3396.24it/s]\u001b[A\u001b[A\n",
      "\n",
      "Average ELBO = -4,628.2:  11%|█         | 21956/200000 [00:06<00:52, 3393.62it/s]\u001b[A\u001b[A\n",
      "\n",
      "Average ELBO = -4,628.2:  11%|█         | 22300/200000 [00:06<00:52, 3399.57it/s]\u001b[A\u001b[A\n",
      "\n",
      "Average ELBO = -4,628.2:  11%|█▏        | 22661/200000 [00:06<00:51, 3459.00it/s]\u001b[A\u001b[A\n",
      "\n",
      "Average ELBO = -4,628.2:  12%|█▏        | 23021/200000 [00:06<00:50, 3498.47it/s]\u001b[A\u001b[A\n",
      "\n",
      "Average ELBO = -4,628.2:  12%|█▏        | 23372/200000 [00:06<00:51, 3458.73it/s]\u001b[A\u001b[A\n",
      "\n",
      "Average ELBO = -4,628.2:  12%|█▏        | 23719/200000 [00:06<00:51, 3415.80it/s]\u001b[A\u001b[A\n",
      "\n",
      "Average ELBO = -4,628.2:  12%|█▏        | 24063/200000 [00:07<00:51, 3422.83it/s]\u001b[A\u001b[A\n",
      "\n",
      "Average ELBO = -4,628.2:  12%|█▏        | 24408/200000 [00:07<00:51, 3413.36it/s]\u001b[A\u001b[AMedian ELBO converged.\n",
      "Finished [100%]: Average ELBO = -716.49\n",
      "\n",
      "\n",
      "\u001b[A\u001b[A\n",
      "\n",
      "  0%|          | 0/2000 [00:00<?, ?it/s]\u001b[A\u001b[A\n",
      "\n",
      "  1%|          | 24/2000 [00:00<00:08, 232.30it/s]\u001b[A\u001b[A\n",
      "\n",
      "  2%|▎         | 50/2000 [00:00<00:08, 239.02it/s]\u001b[A\u001b[A\n",
      "\n",
      "  4%|▍         | 79/2000 [00:00<00:07, 251.92it/s]\u001b[A\u001b[A\n",
      "\n",
      "  6%|▌         | 117/2000 [00:00<00:06, 278.41it/s]\u001b[A\u001b[A\n",
      "\n",
      "  7%|▋         | 148/2000 [00:00<00:06, 283.79it/s]\u001b[A\u001b[A\n",
      "\n",
      "  9%|▉         | 187/2000 [00:00<00:05, 308.85it/s]\u001b[A\u001b[A\n",
      "\n",
      " 11%|█▏        | 228/2000 [00:00<00:05, 329.31it/s]\u001b[A\u001b[A\n",
      "\n",
      " 13%|█▎        | 266/2000 [00:00<00:05, 340.38it/s]\u001b[A\u001b[A\n",
      "\n",
      " 15%|█▌        | 300/2000 [00:00<00:05, 302.80it/s]\u001b[A\u001b[A\n",
      "\n",
      " 17%|█▋        | 340/2000 [00:01<00:05, 323.50it/s]\u001b[A\u001b[A\n",
      "\n",
      " 19%|█▉        | 375/2000 [00:01<00:04, 328.86it/s]\u001b[A\u001b[A\n",
      "\n",
      " 20%|██        | 409/2000 [00:01<00:04, 328.00it/s]\u001b[A\u001b[A\n",
      "\n",
      " 22%|██▏       | 449/2000 [00:01<00:04, 343.49it/s]\u001b[A\u001b[A\n",
      "\n",
      " 24%|██▍       | 484/2000 [00:01<00:04, 341.30it/s]\u001b[A\u001b[A\n",
      "\n",
      " 26%|██▌       | 522/2000 [00:01<00:04, 349.44it/s]\u001b[A\u001b[A\n",
      "\n",
      " 28%|██▊       | 558/2000 [00:01<00:04, 346.36it/s]\u001b[A\u001b[A\n",
      "\n",
      " 30%|███       | 600/2000 [00:01<00:03, 365.16it/s]\u001b[A\u001b[A\n",
      "\n",
      " 32%|███▏      | 644/2000 [00:01<00:03, 383.35it/s]\u001b[A\u001b[A\n",
      "\n",
      " 34%|███▍      | 686/2000 [00:01<00:03, 386.72it/s]\u001b[A\u001b[A\n",
      "\n",
      " 36%|███▋      | 727/2000 [00:02<00:03, 390.16it/s]\u001b[A\u001b[A\n",
      "\n",
      " 38%|███▊      | 767/2000 [00:02<00:03, 374.17it/s]\u001b[A\u001b[A\n",
      "\n",
      " 40%|████      | 808/2000 [00:02<00:03, 381.06it/s]\u001b[A\u001b[A\n",
      "\n",
      " 43%|████▎     | 854/2000 [00:02<00:02, 401.20it/s]\u001b[A\u001b[A\n",
      "\n",
      " 45%|████▌     | 905/2000 [00:02<00:02, 425.09it/s]\u001b[A\u001b[A\n",
      "\n",
      " 47%|████▋     | 949/2000 [00:02<00:02, 410.98it/s]\u001b[A\u001b[A\n",
      "\n",
      " 50%|████▉     | 991/2000 [00:02<00:02, 409.83it/s]\u001b[A\u001b[A\n",
      "\n",
      " 52%|█████▏    | 1037/2000 [00:02<00:02, 421.78it/s]\u001b[A\u001b[A\n",
      "\n",
      " 54%|█████▍    | 1080/2000 [00:02<00:02, 424.08it/s]\u001b[A\u001b[A\n",
      "\n",
      " 56%|█████▌    | 1123/2000 [00:03<00:02, 400.81it/s]\u001b[A\u001b[A\n",
      "\n",
      " 58%|█████▊    | 1164/2000 [00:03<00:02, 370.63it/s]\u001b[A\u001b[A\n",
      "\n",
      " 60%|██████    | 1204/2000 [00:03<00:02, 378.92it/s]\u001b[A\u001b[A\n",
      "\n",
      " 62%|██████▏   | 1245/2000 [00:03<00:01, 386.16it/s]\u001b[A\u001b[A\n",
      "\n",
      " 64%|██████▍   | 1285/2000 [00:03<00:01, 388.15it/s]\u001b[A\u001b[A\n",
      "\n",
      " 66%|██████▋   | 1325/2000 [00:03<00:01, 387.50it/s]\u001b[A\u001b[A\n",
      "\n",
      " 68%|██████▊   | 1364/2000 [00:03<00:01, 371.46it/s]\u001b[A\u001b[A\n",
      "\n",
      " 70%|███████   | 1406/2000 [00:03<00:01, 384.00it/s]\u001b[A\u001b[A\n",
      "\n",
      " 72%|███████▏  | 1445/2000 [00:03<00:01, 381.14it/s]\u001b[A\u001b[A\n",
      "\n",
      " 74%|███████▍  | 1484/2000 [00:04<00:01, 369.02it/s]\u001b[A\u001b[A\n",
      "\n",
      " 76%|███████▋  | 1526/2000 [00:04<00:01, 381.59it/s]\u001b[A\u001b[A\n",
      "\n",
      " 79%|███████▊  | 1572/2000 [00:04<00:01, 400.47it/s]\u001b[A\u001b[A\n",
      "\n",
      " 81%|████████  | 1613/2000 [00:04<00:00, 401.60it/s]\u001b[A\u001b[A\n",
      "\n",
      " 83%|████████▎ | 1654/2000 [00:04<00:00, 365.42it/s]\u001b[A\u001b[A\n",
      "\n",
      " 85%|████████▍ | 1692/2000 [00:04<00:00, 369.24it/s]\u001b[A\u001b[A\n",
      "\n",
      " 87%|████████▋ | 1733/2000 [00:04<00:00, 376.08it/s]\u001b[A\u001b[A\n",
      "\n",
      " 89%|████████▊ | 1772/2000 [00:04<00:00, 377.79it/s]\u001b[A\u001b[A\n",
      "\n",
      " 91%|█████████ | 1813/2000 [00:04<00:00, 385.36it/s]\u001b[A\u001b[A\n",
      "\n",
      " 93%|█████████▎| 1852/2000 [00:04<00:00, 372.08it/s]\u001b[A\u001b[A\n",
      "\n",
      " 95%|█████████▍| 1899/2000 [00:05<00:00, 394.98it/s]\u001b[A\u001b[A\n",
      "\n",
      " 97%|█████████▋| 1947/2000 [00:05<00:00, 416.52it/s]\u001b[A\u001b[A\n",
      "\n",
      "100%|█████████▉| 1994/2000 [00:05<00:00, 427.59it/s]\u001b[A\u001b[A\n",
      "\n",
      "100%|██████████| 2000/2000 [00:05<00:00, 375.91it/s]\u001b[A\u001b[A"
     ]
    }
   ],
   "source": [
    "with model:\n",
    "    trace = pm.sample(2000)\n"
   ]
  },
  {
   "cell_type": "code",
   "execution_count": 66,
   "metadata": {
    "collapsed": false
   },
   "outputs": [
    {
     "data": {
      "text/plain": [
       "array([[<matplotlib.axes._subplots.AxesSubplot object at 0x7f13da40ed68>,\n",
       "        <matplotlib.axes._subplots.AxesSubplot object at 0x7f13da438208>],\n",
       "       [<matplotlib.axes._subplots.AxesSubplot object at 0x7f13db3174e0>,\n",
       "        <matplotlib.axes._subplots.AxesSubplot object at 0x7f13db582828>]], dtype=object)"
      ]
     },
     "execution_count": 66,
     "metadata": {},
     "output_type": "execute_result"
    },
    {
     "data": {
      "image/png": "[encoded data removed]",
      "text/plain": [
       "<matplotlib.figure.Figure at 0x7f13da354a58>"
      ]
     },
     "metadata": {},
     "output_type": "display_data"
    }
   ],
   "source": [
    "pm.traceplot(trace[1000:], varnames=['s2_f', 's2_n'])"
   ]
  },
  {
   "cell_type": "code",
   "execution_count": 63,
   "metadata": {
    "collapsed": false
   },
   "outputs": [
    {
     "name": "stderr",
     "output_type": "stream",
     "text": [
      "\n",
      "\n",
      "  0%|          | 0/2000 [00:00<?, ?it/s]\u001b[A\u001b[A"
     ]
    },
    {
     "ename": "ValueError",
     "evalue": "Array 'mean' must be a vector of length 17.",
     "output_type": "error",
     "traceback": [
      "\u001b[0;31m---------------------------------------------------------------------------\u001b[0m",
      "\u001b[0;31mValueError\u001b[0m                                Traceback (most recent call last)",
      "\u001b[0;32m<ipython-input-63-927543395e41>\u001b[0m in \u001b[0;36m<module>\u001b[0;34m()\u001b[0m\n\u001b[1;32m      1\u001b[0m \u001b[0mZ\u001b[0m \u001b[0;34m=\u001b[0m \u001b[0mnp\u001b[0m\u001b[0;34m.\u001b[0m\u001b[0mlinspace\u001b[0m\u001b[0;34m(\u001b[0m\u001b[0;36m0\u001b[0m\u001b[0;34m,\u001b[0m \u001b[0;36m18\u001b[0m\u001b[0;34m,\u001b[0m \u001b[0;36m17\u001b[0m\u001b[0;34m)\u001b[0m\u001b[0;34m[\u001b[0m\u001b[0;34m:\u001b[0m\u001b[0;34m,\u001b[0m \u001b[0;32mNone\u001b[0m\u001b[0;34m]\u001b[0m\u001b[0;34m\u001b[0m\u001b[0m\n\u001b[1;32m      2\u001b[0m \u001b[0;32mwith\u001b[0m \u001b[0mmodel\u001b[0m\u001b[0;34m:\u001b[0m\u001b[0;34m\u001b[0m\u001b[0m\n\u001b[0;32m----> 3\u001b[0;31m     \u001b[0mgp_samples\u001b[0m \u001b[0;34m=\u001b[0m \u001b[0mpm\u001b[0m\u001b[0;34m.\u001b[0m\u001b[0mgp\u001b[0m\u001b[0;34m.\u001b[0m\u001b[0msample_gp\u001b[0m\u001b[0;34m(\u001b[0m\u001b[0mtrace\u001b[0m\u001b[0;34m,\u001b[0m \u001b[0my_obs\u001b[0m\u001b[0;34m,\u001b[0m \u001b[0mZ\u001b[0m\u001b[0;34m)\u001b[0m\u001b[0;34m\u001b[0m\u001b[0m\n\u001b[0m",
      "\u001b[0;32m/home/ericmjl/anaconda/lib/python3.6/site-packages/pymc3/gp/gp.py\u001b[0m in \u001b[0;36msample_gp\u001b[0;34m(trace, gp, X_values, samples, obs_noise, model, random_seed, progressbar)\u001b[0m\n\u001b[1;32m    139\u001b[0m     \u001b[0mgp_post\u001b[0m \u001b[0;34m=\u001b[0m \u001b[0mMvNormal\u001b[0m\u001b[0;34m.\u001b[0m\u001b[0mdist\u001b[0m\u001b[0;34m(\u001b[0m\u001b[0mm_post\u001b[0m\u001b[0;34m,\u001b[0m \u001b[0mS_post\u001b[0m\u001b[0;34m,\u001b[0m \u001b[0mshape\u001b[0m\u001b[0;34m=\u001b[0m\u001b[0mZ\u001b[0m\u001b[0;34m.\u001b[0m\u001b[0mshape\u001b[0m\u001b[0;34m[\u001b[0m\u001b[0;36m0\u001b[0m\u001b[0;34m]\u001b[0m\u001b[0;34m)\u001b[0m\u001b[0;34m\u001b[0m\u001b[0m\n\u001b[1;32m    140\u001b[0m \u001b[0;34m\u001b[0m\u001b[0m\n\u001b[0;32m--> 141\u001b[0;31m     \u001b[0msamples\u001b[0m \u001b[0;34m=\u001b[0m \u001b[0;34m[\u001b[0m\u001b[0mgp_post\u001b[0m\u001b[0;34m.\u001b[0m\u001b[0mrandom\u001b[0m\u001b[0;34m(\u001b[0m\u001b[0mpoint\u001b[0m\u001b[0;34m=\u001b[0m\u001b[0mtrace\u001b[0m\u001b[0;34m[\u001b[0m\u001b[0midx\u001b[0m\u001b[0;34m]\u001b[0m\u001b[0;34m)\u001b[0m \u001b[0;32mfor\u001b[0m \u001b[0midx\u001b[0m \u001b[0;32min\u001b[0m \u001b[0mindices\u001b[0m\u001b[0;34m]\u001b[0m\u001b[0;34m\u001b[0m\u001b[0m\n\u001b[0m\u001b[1;32m    142\u001b[0m \u001b[0;34m\u001b[0m\u001b[0m\n\u001b[1;32m    143\u001b[0m     \u001b[0;32mreturn\u001b[0m \u001b[0mnp\u001b[0m\u001b[0;34m.\u001b[0m\u001b[0marray\u001b[0m\u001b[0;34m(\u001b[0m\u001b[0msamples\u001b[0m\u001b[0;34m)\u001b[0m\u001b[0;34m\u001b[0m\u001b[0m\n",
      "\u001b[0;32m/home/ericmjl/anaconda/lib/python3.6/site-packages/pymc3/gp/gp.py\u001b[0m in \u001b[0;36m<listcomp>\u001b[0;34m(.0)\u001b[0m\n\u001b[1;32m    139\u001b[0m     \u001b[0mgp_post\u001b[0m \u001b[0;34m=\u001b[0m \u001b[0mMvNormal\u001b[0m\u001b[0;34m.\u001b[0m\u001b[0mdist\u001b[0m\u001b[0;34m(\u001b[0m\u001b[0mm_post\u001b[0m\u001b[0;34m,\u001b[0m \u001b[0mS_post\u001b[0m\u001b[0;34m,\u001b[0m \u001b[0mshape\u001b[0m\u001b[0;34m=\u001b[0m\u001b[0mZ\u001b[0m\u001b[0;34m.\u001b[0m\u001b[0mshape\u001b[0m\u001b[0;34m[\u001b[0m\u001b[0;36m0\u001b[0m\u001b[0;34m]\u001b[0m\u001b[0;34m)\u001b[0m\u001b[0;34m\u001b[0m\u001b[0m\n\u001b[1;32m    140\u001b[0m \u001b[0;34m\u001b[0m\u001b[0m\n\u001b[0;32m--> 141\u001b[0;31m     \u001b[0msamples\u001b[0m \u001b[0;34m=\u001b[0m \u001b[0;34m[\u001b[0m\u001b[0mgp_post\u001b[0m\u001b[0;34m.\u001b[0m\u001b[0mrandom\u001b[0m\u001b[0;34m(\u001b[0m\u001b[0mpoint\u001b[0m\u001b[0;34m=\u001b[0m\u001b[0mtrace\u001b[0m\u001b[0;34m[\u001b[0m\u001b[0midx\u001b[0m\u001b[0;34m]\u001b[0m\u001b[0;34m)\u001b[0m \u001b[0;32mfor\u001b[0m \u001b[0midx\u001b[0m \u001b[0;32min\u001b[0m \u001b[0mindices\u001b[0m\u001b[0;34m]\u001b[0m\u001b[0;34m\u001b[0m\u001b[0m\n\u001b[0m\u001b[1;32m    142\u001b[0m \u001b[0;34m\u001b[0m\u001b[0m\n\u001b[1;32m    143\u001b[0m     \u001b[0;32mreturn\u001b[0m \u001b[0mnp\u001b[0m\u001b[0;34m.\u001b[0m\u001b[0marray\u001b[0m\u001b[0;34m(\u001b[0m\u001b[0msamples\u001b[0m\u001b[0;34m)\u001b[0m\u001b[0;34m\u001b[0m\u001b[0m\n",
      "\u001b[0;32m/home/ericmjl/anaconda/lib/python3.6/site-packages/pymc3/distributions/multivariate.py\u001b[0m in \u001b[0;36mrandom\u001b[0;34m(self, point, size)\u001b[0m\n\u001b[1;32m    115\u001b[0m                                    \u001b[0mdist_shape\u001b[0m\u001b[0;34m=\u001b[0m\u001b[0mself\u001b[0m\u001b[0;34m.\u001b[0m\u001b[0mshape\u001b[0m\u001b[0;34m,\u001b[0m\u001b[0;34m\u001b[0m\u001b[0m\n\u001b[1;32m    116\u001b[0m                                    \u001b[0mbroadcast_shape\u001b[0m\u001b[0;34m=\u001b[0m\u001b[0mmu\u001b[0m\u001b[0;34m.\u001b[0m\u001b[0mshape\u001b[0m\u001b[0;34m,\u001b[0m\u001b[0;34m\u001b[0m\u001b[0m\n\u001b[0;32m--> 117\u001b[0;31m                                    size=size)\n\u001b[0m\u001b[1;32m    118\u001b[0m         \u001b[0;32mreturn\u001b[0m \u001b[0msamples\u001b[0m\u001b[0;34m\u001b[0m\u001b[0m\n\u001b[1;32m    119\u001b[0m \u001b[0;34m\u001b[0m\u001b[0m\n",
      "\u001b[0;32m/home/ericmjl/anaconda/lib/python3.6/site-packages/pymc3/distributions/distribution.py\u001b[0m in \u001b[0;36mgenerate_samples\u001b[0;34m(generator, *args, **kwargs)\u001b[0m\n\u001b[1;32m    372\u001b[0m                                         \u001b[0mbroadcast_shape\u001b[0m\u001b[0;34m,\u001b[0m\u001b[0;34m\u001b[0m\u001b[0m\n\u001b[1;32m    373\u001b[0m                                         \u001b[0mprefix_shape\u001b[0m\u001b[0;34m,\u001b[0m\u001b[0;34m\u001b[0m\u001b[0m\n\u001b[0;32m--> 374\u001b[0;31m                                         *args, **kwargs)\n\u001b[0m\u001b[1;32m    375\u001b[0m     \u001b[0;32mreturn\u001b[0m \u001b[0mreshape_sampled\u001b[0m\u001b[0;34m(\u001b[0m\u001b[0msamples\u001b[0m\u001b[0;34m,\u001b[0m \u001b[0msize\u001b[0m\u001b[0;34m,\u001b[0m \u001b[0mdist_shape\u001b[0m\u001b[0;34m)\u001b[0m\u001b[0;34m\u001b[0m\u001b[0m\n\u001b[1;32m    376\u001b[0m \u001b[0;34m\u001b[0m\u001b[0m\n",
      "\u001b[0;32m/home/ericmjl/anaconda/lib/python3.6/site-packages/pymc3/distributions/distribution.py\u001b[0m in \u001b[0;36mreplicate_samples\u001b[0;34m(generator, size, repeats, *args, **kwargs)\u001b[0m\n\u001b[1;32m    300\u001b[0m     \u001b[0;32melse\u001b[0m\u001b[0;34m:\u001b[0m\u001b[0;34m\u001b[0m\u001b[0m\n\u001b[1;32m    301\u001b[0m         samples = np.array([generator(size=size, *args, **kwargs)\n\u001b[0;32m--> 302\u001b[0;31m                             for _ in range(n)])\n\u001b[0m\u001b[1;32m    303\u001b[0m         \u001b[0msamples\u001b[0m \u001b[0;34m=\u001b[0m \u001b[0mnp\u001b[0m\u001b[0;34m.\u001b[0m\u001b[0mreshape\u001b[0m\u001b[0;34m(\u001b[0m\u001b[0msamples\u001b[0m\u001b[0;34m,\u001b[0m \u001b[0mtuple\u001b[0m\u001b[0;34m(\u001b[0m\u001b[0mrepeats\u001b[0m\u001b[0;34m)\u001b[0m \u001b[0;34m+\u001b[0m \u001b[0mtuple\u001b[0m\u001b[0;34m(\u001b[0m\u001b[0msize\u001b[0m\u001b[0;34m)\u001b[0m\u001b[0;34m)\u001b[0m\u001b[0;34m\u001b[0m\u001b[0m\n\u001b[1;32m    304\u001b[0m     \u001b[0;32mreturn\u001b[0m \u001b[0msamples\u001b[0m\u001b[0;34m\u001b[0m\u001b[0m\n",
      "\u001b[0;32m/home/ericmjl/anaconda/lib/python3.6/site-packages/pymc3/distributions/distribution.py\u001b[0m in \u001b[0;36m<listcomp>\u001b[0;34m(.0)\u001b[0m\n\u001b[1;32m    300\u001b[0m     \u001b[0;32melse\u001b[0m\u001b[0;34m:\u001b[0m\u001b[0;34m\u001b[0m\u001b[0m\n\u001b[1;32m    301\u001b[0m         samples = np.array([generator(size=size, *args, **kwargs)\n\u001b[0;32m--> 302\u001b[0;31m                             for _ in range(n)])\n\u001b[0m\u001b[1;32m    303\u001b[0m         \u001b[0msamples\u001b[0m \u001b[0;34m=\u001b[0m \u001b[0mnp\u001b[0m\u001b[0;34m.\u001b[0m\u001b[0mreshape\u001b[0m\u001b[0;34m(\u001b[0m\u001b[0msamples\u001b[0m\u001b[0;34m,\u001b[0m \u001b[0mtuple\u001b[0m\u001b[0;34m(\u001b[0m\u001b[0mrepeats\u001b[0m\u001b[0;34m)\u001b[0m \u001b[0;34m+\u001b[0m \u001b[0mtuple\u001b[0m\u001b[0;34m(\u001b[0m\u001b[0msize\u001b[0m\u001b[0;34m)\u001b[0m\u001b[0;34m)\u001b[0m\u001b[0;34m\u001b[0m\u001b[0m\n\u001b[1;32m    304\u001b[0m     \u001b[0;32mreturn\u001b[0m \u001b[0msamples\u001b[0m\u001b[0;34m\u001b[0m\u001b[0m\n",
      "\u001b[0;32m/home/ericmjl/anaconda/lib/python3.6/site-packages/pymc3/distributions/multivariate.py\u001b[0m in \u001b[0;36m_random\u001b[0;34m(mean, cov, size)\u001b[0m\n\u001b[1;32m    109\u001b[0m         \u001b[0;32mdef\u001b[0m \u001b[0m_random\u001b[0m\u001b[0;34m(\u001b[0m\u001b[0mmean\u001b[0m\u001b[0;34m,\u001b[0m \u001b[0mcov\u001b[0m\u001b[0;34m,\u001b[0m \u001b[0msize\u001b[0m\u001b[0;34m=\u001b[0m\u001b[0;32mNone\u001b[0m\u001b[0;34m)\u001b[0m\u001b[0;34m:\u001b[0m\u001b[0;34m\u001b[0m\u001b[0m\n\u001b[1;32m    110\u001b[0m             return stats.multivariate_normal.rvs(\n\u001b[0;32m--> 111\u001b[0;31m                 mean, cov, None if size == mean.shape else size)\n\u001b[0m\u001b[1;32m    112\u001b[0m \u001b[0;34m\u001b[0m\u001b[0m\n\u001b[1;32m    113\u001b[0m         samples = generate_samples(_random,\n",
      "\u001b[0;32m/home/ericmjl/anaconda/lib/python3.6/site-packages/scipy/stats/_multivariate.py\u001b[0m in \u001b[0;36mrvs\u001b[0;34m(self, mean, cov, size, random_state)\u001b[0m\n\u001b[1;32m    528\u001b[0m \u001b[0;34m\u001b[0m\u001b[0m\n\u001b[1;32m    529\u001b[0m         \"\"\"\n\u001b[0;32m--> 530\u001b[0;31m         \u001b[0mdim\u001b[0m\u001b[0;34m,\u001b[0m \u001b[0mmean\u001b[0m\u001b[0;34m,\u001b[0m \u001b[0mcov\u001b[0m \u001b[0;34m=\u001b[0m \u001b[0mself\u001b[0m\u001b[0;34m.\u001b[0m\u001b[0m_process_parameters\u001b[0m\u001b[0;34m(\u001b[0m\u001b[0;32mNone\u001b[0m\u001b[0;34m,\u001b[0m \u001b[0mmean\u001b[0m\u001b[0;34m,\u001b[0m \u001b[0mcov\u001b[0m\u001b[0;34m)\u001b[0m\u001b[0;34m\u001b[0m\u001b[0m\n\u001b[0m\u001b[1;32m    531\u001b[0m \u001b[0;34m\u001b[0m\u001b[0m\n\u001b[1;32m    532\u001b[0m         \u001b[0mrandom_state\u001b[0m \u001b[0;34m=\u001b[0m \u001b[0mself\u001b[0m\u001b[0;34m.\u001b[0m\u001b[0m_get_random_state\u001b[0m\u001b[0;34m(\u001b[0m\u001b[0mrandom_state\u001b[0m\u001b[0;34m)\u001b[0m\u001b[0;34m\u001b[0m\u001b[0m\n",
      "\u001b[0;32m/home/ericmjl/anaconda/lib/python3.6/site-packages/scipy/stats/_multivariate.py\u001b[0m in \u001b[0;36m_process_parameters\u001b[0;34m(self, dim, mean, cov)\u001b[0m\n\u001b[1;32m    388\u001b[0m \u001b[0;34m\u001b[0m\u001b[0m\n\u001b[1;32m    389\u001b[0m         \u001b[0;32mif\u001b[0m \u001b[0mmean\u001b[0m\u001b[0;34m.\u001b[0m\u001b[0mndim\u001b[0m \u001b[0;34m!=\u001b[0m \u001b[0;36m1\u001b[0m \u001b[0;32mor\u001b[0m \u001b[0mmean\u001b[0m\u001b[0;34m.\u001b[0m\u001b[0mshape\u001b[0m\u001b[0;34m[\u001b[0m\u001b[0;36m0\u001b[0m\u001b[0;34m]\u001b[0m \u001b[0;34m!=\u001b[0m \u001b[0mdim\u001b[0m\u001b[0;34m:\u001b[0m\u001b[0;34m\u001b[0m\u001b[0m\n\u001b[0;32m--> 390\u001b[0;31m             \u001b[0;32mraise\u001b[0m \u001b[0mValueError\u001b[0m\u001b[0;34m(\u001b[0m\u001b[0;34m\"Array 'mean' must be a vector of length %d.\"\u001b[0m \u001b[0;34m%\u001b[0m \u001b[0mdim\u001b[0m\u001b[0;34m)\u001b[0m\u001b[0;34m\u001b[0m\u001b[0m\n\u001b[0m\u001b[1;32m    391\u001b[0m         \u001b[0;32mif\u001b[0m \u001b[0mcov\u001b[0m\u001b[0;34m.\u001b[0m\u001b[0mndim\u001b[0m \u001b[0;34m==\u001b[0m \u001b[0;36m0\u001b[0m\u001b[0;34m:\u001b[0m\u001b[0;34m\u001b[0m\u001b[0m\n\u001b[1;32m    392\u001b[0m             \u001b[0mcov\u001b[0m \u001b[0;34m=\u001b[0m \u001b[0mcov\u001b[0m \u001b[0;34m*\u001b[0m \u001b[0mnp\u001b[0m\u001b[0;34m.\u001b[0m\u001b[0meye\u001b[0m\u001b[0;34m(\u001b[0m\u001b[0mdim\u001b[0m\u001b[0;34m)\u001b[0m\u001b[0;34m\u001b[0m\u001b[0m\n",
      "\u001b[0;31mValueError\u001b[0m: Array 'mean' must be a vector of length 17."
     ]
    }
   ],
   "source": [
    "Z = np.linspace(0, 18, 17)[:, None]\n",
    "with model:\n",
    "    gp_samples = pm.gp.sample_gp(trace, y_obs, Z)"
   ]
  },
  {
   "cell_type": "code",
   "execution_count": null,
   "metadata": {
    "collapsed": true
   },
   "outputs": [],
   "source": []
  }
 ],
 "metadata": {
  "kernelspec": {
   "display_name": "Python 3",
   "language": "python",
   "name": "python3"
  },
  "language_info": {
   "codemirror_mode": {
    "name": "ipython",
    "version": 3
   },
   "file_extension": ".py",
   "mimetype": "text/x-python",
   "name": "python",
   "nbconvert_exporter": "python",
   "pygments_lexer": "ipython3",
   "version": "3.6.0"
  }
 },
 "nbformat": 4,
 "nbformat_minor": 2
}
